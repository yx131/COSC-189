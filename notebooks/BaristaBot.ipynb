{
 "cells": [
  {
   "cell_type": "code",
   "execution_count": 2,
   "metadata": {},
   "outputs": [],
   "source": [
    "from ibm_watson import TextToSpeechV1\n",
    "from ibm_cloud_sdk_core.authenticators import IAMAuthenticator"
   ]
  },
  {
   "cell_type": "code",
   "execution_count": 3,
   "metadata": {},
   "outputs": [],
   "source": [
    "TtS_authenticator = IAMAuthenticator('NlhclhDNYCgBT0iAZMsvGfhqadWAXiv0emYqLBJEKmkG')\n",
    "TtS = TextToSpeechV1(authenticator=TtS_authenticator)\n",
    "TtS.set_service_url('https://api.us-south.text-to-speech.watson.cloud.ibm.com/instances/09e04cc2-d35f-4bf5-b98f-1c869434f691')"
   ]
  },
  {
   "cell_type": "code",
   "execution_count": 4,
   "metadata": {},
   "outputs": [],
   "source": [
    "def gen_audio_from_text(text_str=f'Text to speech is working', audio_file_name=f'speech_temp.mp3', TtS=TtS):\n",
    "    with open(f'{audio_file_name}', 'wb') as audio_file:\n",
    "        res = TtS.synthesize(text_str, accept='audio/mp3', voice='en-US_AllisonV3Voice').get_result()\n",
    "        audio_file.write(res.content)"
   ]
  },
  {
   "cell_type": "code",
   "execution_count": 5,
   "metadata": {},
   "outputs": [],
   "source": [
    "StT_authenticator = IAMAuthenticator('4D6hF3FLmKjIGfYUpxkrTomo2KR6MEH6dpa8hjY3sBYa')\n",
    "StT = TextToSpeechV1(authenticator=StT_authenticator)\n",
    "StT.set_service_url('https://api.us-south.speech-to-text.watson.cloud.ibm.com/instances/59f620ac-6a5c-4fa2-9956-e620fff40d3b')"
   ]
  },
  {
   "cell_type": "code",
   "execution_count": null,
   "metadata": {},
   "outputs": [],
   "source": []
  },
  {
   "cell_type": "code",
   "execution_count": null,
   "metadata": {},
   "outputs": [],
   "source": []
  }
 ],
 "metadata": {
  "kernelspec": {
   "display_name": "Python 3",
   "language": "python",
   "name": "python3"
  },
  "language_info": {
   "codemirror_mode": {
    "name": "ipython",
    "version": 3
   },
   "file_extension": ".py",
   "mimetype": "text/x-python",
   "name": "python",
   "nbconvert_exporter": "python",
   "pygments_lexer": "ipython3",
   "version": "3.8.5"
  }
 },
 "nbformat": 4,
 "nbformat_minor": 4
}
